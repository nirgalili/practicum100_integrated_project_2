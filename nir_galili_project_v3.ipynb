{
 "cells": [
  {
   "cell_type": "markdown",
   "id": "ac03ea95",
   "metadata": {},
   "source": [
    "# Step 1. Open the data file and read the general information"
   ]
  },
  {
   "cell_type": "markdown",
   "id": "73e74c65",
   "metadata": {},
   "source": [
    "## Project description\n",
    "- Our mission is to investigate user behavior for the company's app. \n",
    "- The designers would like to change the fonts for the entire app, but the managers are afraid the users might find the new design intimidating. \n",
    "- We will conduct an A/A/B test.\n",
    "- The managers will decide  to change the fonts for the entire app based on the results from our experiment."
   ]
  },
  {
   "cell_type": "markdown",
   "id": "f0bd25c8",
   "metadata": {},
   "source": [
    "## Import"
   ]
  },
  {
   "cell_type": "code",
   "execution_count": null,
   "id": "d832bdd2",
   "metadata": {},
   "outputs": [],
   "source": [
    "!pip install plotly-express"
   ]
  },
  {
   "cell_type": "code",
   "execution_count": null,
   "id": "cd5f753a",
   "metadata": {},
   "outputs": [],
   "source": [
    "import pandas as pd\n",
    "import numpy as np\n",
    "import plotly.express as px\n",
    "import plotly.graph_objects as go\n",
    "from scipy import stats as st\n",
    "import matplotlib.pyplot as plt\n",
    "import seaborn as sns\n",
    "from scipy import stats as st\n",
    "import datetime as dt\n",
    "import math as mth\n",
    "\n",
    "%matplotlib inline"
   ]
  },
  {
   "cell_type": "markdown",
   "id": "9f92ee1c",
   "metadata": {},
   "source": [
    "## Load data"
   ]
  },
  {
   "cell_type": "code",
   "execution_count": null,
   "id": "839de1e1",
   "metadata": {},
   "outputs": [],
   "source": [
    "try:\n",
    "    logs = pd.read_csv('logs_exp_us.csv', sep=\"\\s+\")\n",
    "except:\n",
    "    logs = pd.read_csv('/datasets/logs_exp_us.csv', sep=\"\\s+\")"
   ]
  },
  {
   "cell_type": "markdown",
   "id": "8d10d462",
   "metadata": {},
   "source": [
    "# Step 2. Prepare the data for analysis\n"
   ]
  },
  {
   "cell_type": "markdown",
   "id": "91ebe7a1",
   "metadata": {},
   "source": [
    "## Preview and info"
   ]
  },
  {
   "cell_type": "markdown",
   "id": "6740065d",
   "metadata": {},
   "source": [
    "- EventName — event name\n",
    "- DeviceIDHash — unique user identifier\n",
    "- EventTimestamp — event time\n",
    "- ExpId — experiment number: 246 and 247 are the control groups, 248 is the test group"
   ]
  },
  {
   "cell_type": "code",
   "execution_count": null,
   "id": "5b8ee089",
   "metadata": {},
   "outputs": [],
   "source": [
    "logs.info()"
   ]
  },
  {
   "cell_type": "markdown",
   "id": "09f4fbca",
   "metadata": {},
   "source": [
    "no missing values"
   ]
  },
  {
   "cell_type": "code",
   "execution_count": null,
   "id": "c28105c8",
   "metadata": {
    "scrolled": true
   },
   "outputs": [],
   "source": [
    "logs.head()"
   ]
  },
  {
   "cell_type": "markdown",
   "id": "55e304e9",
   "metadata": {},
   "source": [
    "## Correct and prepare data "
   ]
  },
  {
   "cell_type": "markdown",
   "id": "fa5189d5",
   "metadata": {},
   "source": [
    "make all columns lower with semicolumn"
   ]
  },
  {
   "cell_type": "code",
   "execution_count": null,
   "id": "24d020f6",
   "metadata": {},
   "outputs": [],
   "source": [
    "# make all columns lower \n",
    "logs.columns= logs.columns.str.lower()\n",
    "logs.columns"
   ]
  },
  {
   "cell_type": "code",
   "execution_count": null,
   "id": "265f99d6",
   "metadata": {},
   "outputs": [],
   "source": [
    "# add semicolumn\n",
    "logs.rename(columns={'eventname': 'event_name',\n",
    "                 'deviceidhash': 'device_id_hash',\n",
    "                 'eventtimestamp': 'event_timestamp',\n",
    "                 'expid': 'exp_id'},\n",
    "               inplace=True)\n",
    "logs.columns"
   ]
  },
  {
   "cell_type": "markdown",
   "id": "35161d6f",
   "metadata": {},
   "source": [
    "check event_name column "
   ]
  },
  {
   "cell_type": "code",
   "execution_count": null,
   "id": "e2741967",
   "metadata": {},
   "outputs": [],
   "source": [
    "logs['event_name'].value_counts()"
   ]
  },
  {
   "cell_type": "markdown",
   "id": "13d9fe43",
   "metadata": {},
   "source": [
    "looks ok. no need to correct"
   ]
  },
  {
   "cell_type": "markdown",
   "id": "b87210ed",
   "metadata": {},
   "source": [
    "check exp_id column "
   ]
  },
  {
   "cell_type": "code",
   "execution_count": null,
   "id": "002a15d9",
   "metadata": {},
   "outputs": [],
   "source": [
    "logs['exp_id'].value_counts()"
   ]
  },
  {
   "cell_type": "markdown",
   "id": "626c2f12",
   "metadata": {},
   "source": [
    "rename values in exp_id column to A1, A2 and B"
   ]
  },
  {
   "cell_type": "code",
   "execution_count": null,
   "id": "b1122657",
   "metadata": {},
   "outputs": [],
   "source": [
    "logs['exp_id'].replace({\n",
    "    246: 'A1',\n",
    "    247: 'A2',\n",
    "    248: 'B'\n",
    "}, inplace=True)\n",
    "logs['exp_id'].value_counts()"
   ]
  },
  {
   "cell_type": "code",
   "execution_count": null,
   "id": "659b8535",
   "metadata": {},
   "outputs": [],
   "source": [
    "# Change experiment id to categorical \n",
    "logs['exp_id'] = logs['exp_id'].astype('category')"
   ]
  },
  {
   "cell_type": "markdown",
   "id": "0b341a57",
   "metadata": {},
   "source": [
    "Add a date and time column and a separate column for dates"
   ]
  },
  {
   "cell_type": "code",
   "execution_count": null,
   "id": "66f98e99",
   "metadata": {},
   "outputs": [],
   "source": [
    "logs['time_and_date']=pd.to_datetime(logs['event_timestamp'], unit='s')\n",
    "logs['date'] = logs['time_and_date'].dt.date\n",
    "logs['time'] = logs['time_and_date'].dt.time\n",
    "# logs.drop(['time_and_date'], axis=1, inplace=True)\n",
    "logs.head()"
   ]
  },
  {
   "cell_type": "code",
   "execution_count": null,
   "id": "fdf59962",
   "metadata": {},
   "outputs": [],
   "source": [
    "raw_logs = logs.copy(deep=True)"
   ]
  },
  {
   "cell_type": "markdown",
   "id": "2dd1143a",
   "metadata": {},
   "source": [
    "# Step 3. Study and check the data"
   ]
  },
  {
   "cell_type": "markdown",
   "id": "e5396833",
   "metadata": {},
   "source": [
    "## How many events are in the logs?"
   ]
  },
  {
   "cell_type": "code",
   "execution_count": null,
   "id": "f53777f9",
   "metadata": {},
   "outputs": [],
   "source": [
    "number_of_logs = logs.shape[0]\n",
    "print(f'There are {number_of_logs} events are in the logs')"
   ]
  },
  {
   "cell_type": "markdown",
   "id": "d6eaf77d",
   "metadata": {},
   "source": [
    "## How many users are in the logs?\n"
   ]
  },
  {
   "cell_type": "code",
   "execution_count": null,
   "id": "4e8caaf9",
   "metadata": {},
   "outputs": [],
   "source": [
    "number_of_users = len(logs['device_id_hash'].unique())\n",
    "print(f'There are {number_of_users} users are in the logs')"
   ]
  },
  {
   "cell_type": "markdown",
   "id": "e2f46c16",
   "metadata": {},
   "source": [
    "## What's the average number of events per user?\n"
   ]
  },
  {
   "cell_type": "code",
   "execution_count": null,
   "id": "6639219d",
   "metadata": {},
   "outputs": [],
   "source": [
    "average_number_of_events = round(np.mean(logs.groupby('device_id_hash')['event_timestamp'].count()))\n",
    "print('the average number of events per user is', average_number_of_events)"
   ]
  },
  {
   "cell_type": "code",
   "execution_count": null,
   "id": "0b4d80bb",
   "metadata": {},
   "outputs": [],
   "source": [
    "dt.datetime(2020, 5, 17)"
   ]
  },
  {
   "cell_type": "code",
   "execution_count": null,
   "id": "77cb1f17",
   "metadata": {},
   "outputs": [],
   "source": [
    "x= dt.datetime(2020, 5, 17)\n",
    "x"
   ]
  },
  {
   "cell_type": "code",
   "execution_count": null,
   "id": "da18770c",
   "metadata": {},
   "outputs": [],
   "source": [
    "dt.datetime.now()"
   ]
  },
  {
   "cell_type": "markdown",
   "id": "f9bed7f8",
   "metadata": {},
   "source": [
    "## What period of time does the data cover? Find the maximum and the minimum date. Plot a histogram by date and time. Can you be sure that you have equally complete data for the entire period? Older events could end up in some users' logs for technical reasons, and this could skew the overall picture. Find the moment at which the data starts to be complete and ignore the earlier section. What period does the data actually represent?"
   ]
  },
  {
   "cell_type": "code",
   "execution_count": null,
   "id": "b9516467",
   "metadata": {
    "scrolled": false
   },
   "outputs": [],
   "source": [
    "fig = px.histogram(logs, x=\"time_and_date\")\n",
    "fig.show()"
   ]
  },
  {
   "cell_type": "code",
   "execution_count": null,
   "id": "585106ca",
   "metadata": {
    "scrolled": true
   },
   "outputs": [],
   "source": [
    "logs[(logs['date']<dt.date(2019,8,1))]"
   ]
  },
  {
   "cell_type": "markdown",
   "id": "487da643",
   "metadata": {},
   "source": [
    "In this duration that is about an half of the time span we have there are about 1% of the events. This is very little and we can see in the histogram how distinguish it is. The data starts to be complete in the beginning of August. We can assume only then the experiment officially lunched.  "
   ]
  },
  {
   "cell_type": "code",
   "execution_count": null,
   "id": "b4eeed3f",
   "metadata": {
    "scrolled": true
   },
   "outputs": [],
   "source": [
    "# leave only results from August\n",
    "logs = logs[(logs['date']>=dt.date(2019,8,1))]\n",
    "fig = px.histogram(logs, x=\"time_and_date\")\n",
    "fig.show()"
   ]
  },
  {
   "cell_type": "markdown",
   "id": "5dfb1aa2",
   "metadata": {},
   "source": [
    "Did you lose many events and users when excluding the older data?\n",
    "Make sure you have users from all three experimental groups."
   ]
  },
  {
   "cell_type": "code",
   "execution_count": null,
   "id": "5f87bb6c",
   "metadata": {},
   "outputs": [],
   "source": [
    "logs['exp_id'].value_counts()"
   ]
  },
  {
   "cell_type": "markdown",
   "id": "c55f881e",
   "metadata": {},
   "source": [
    "looks ok"
   ]
  },
  {
   "cell_type": "markdown",
   "id": "31af1497",
   "metadata": {},
   "source": [
    "Let's find number of events at raw data, number of events at new data and the difference"
   ]
  },
  {
   "cell_type": "code",
   "execution_count": null,
   "id": "911e5ed0",
   "metadata": {},
   "outputs": [],
   "source": [
    "print('The number of events at raw data is:', raw_logs.shape[0])\n",
    "print('The number of events at new data is:', logs.shape[0])\n",
    "print(f'The difference in events between new data and raw data is:\\\n",
    " {round(1-logs.shape[0]/raw_logs.shape[0], 3)*100}%')"
   ]
  },
  {
   "cell_type": "markdown",
   "id": "213d6be6",
   "metadata": {},
   "source": [
    "Let's find number of users in the raw data, number of users at new data and the difference"
   ]
  },
  {
   "cell_type": "code",
   "execution_count": null,
   "id": "7ae052e1",
   "metadata": {},
   "outputs": [],
   "source": [
    "print('The number of users at raw data is:', raw_logs['device_id_hash'].nunique())\n",
    "print('The number of users at new data is:', logs['device_id_hash'].nunique())\n",
    "devison = logs['device_id_hash'].nunique()/raw_logs['device_id_hash'].nunique()\n",
    "print(f'The difference in users between new data and raw data is: {round(1-devison, 3)*100}%')"
   ]
  },
  {
   "cell_type": "markdown",
   "id": "65c1d00b",
   "metadata": {},
   "source": [
    "We will compare the events in the groups before and after the removal of logs from July. "
   ]
  },
  {
   "cell_type": "code",
   "execution_count": null,
   "id": "32d340e5",
   "metadata": {},
   "outputs": [],
   "source": [
    "raw_A1_A2_B = raw_logs['exp_id'].value_counts().reset_index()\n",
    "raw_A1_A2_B.columns = ['group', 'events_count_raw']\n",
    "new_A1_A2_B = logs['exp_id'].value_counts().reset_index()\n",
    "new_A1_A2_B.columns = ['group', 'events_count_new']"
   ]
  },
  {
   "cell_type": "code",
   "execution_count": null,
   "id": "1eb69426",
   "metadata": {},
   "outputs": [],
   "source": [
    "raw_A1_A2_B"
   ]
  },
  {
   "cell_type": "code",
   "execution_count": null,
   "id": "55ce1fcf",
   "metadata": {},
   "outputs": [],
   "source": [
    "new_A1_A2_B"
   ]
  },
  {
   "cell_type": "code",
   "execution_count": null,
   "id": "b9fbc65e",
   "metadata": {},
   "outputs": [],
   "source": [
    "A1_A2_B = raw_A1_A2_B.merge(new_A1_A2_B, on='group')"
   ]
  },
  {
   "cell_type": "code",
   "execution_count": null,
   "id": "a1522b99",
   "metadata": {},
   "outputs": [],
   "source": [
    "A1_A2_B['difference, %'] =  A1_A2_B.apply(\n",
    "    lambda x: round(x['events_count_new']/x['events_count_raw'], 2), axis=1)\n",
    "A1_A2_B"
   ]
  },
  {
   "cell_type": "markdown",
   "id": "b4f34abc",
   "metadata": {},
   "source": [
    "For conclusion here we see that the removal of logs from July almost didn't change the users in groups and the amount of events and users in total."
   ]
  },
  {
   "cell_type": "markdown",
   "id": "769ea8f4",
   "metadata": {},
   "source": [
    "# Step 4. Study the event funnel"
   ]
  },
  {
   "cell_type": "markdown",
   "id": "5f44c787",
   "metadata": {},
   "source": [
    "## See what events are in the logs and their frequency of occurrence. Sort them by frequency."
   ]
  },
  {
   "cell_type": "code",
   "execution_count": null,
   "id": "85b30715",
   "metadata": {},
   "outputs": [],
   "source": [
    "events_logs = logs.groupby(\n",
    "    'event_name'\n",
    ")['time_and_date'].count().reset_index().sort_values(by='time_and_date', ascending=False)\n",
    "events_logs.columns = ['event_name', 'frequency']"
   ]
  },
  {
   "cell_type": "code",
   "execution_count": null,
   "id": "8fa62276",
   "metadata": {},
   "outputs": [],
   "source": [
    "events_logs"
   ]
  },
  {
   "cell_type": "markdown",
   "id": "6c50263e",
   "metadata": {},
   "source": [
    "Also lets see the frequency of each event in the histogram"
   ]
  },
  {
   "cell_type": "code",
   "execution_count": null,
   "id": "1f673206",
   "metadata": {},
   "outputs": [],
   "source": [
    "x0 = logs[logs['event_name'] == 'Tutorial']['time_and_date']\n",
    "x1 = logs[logs['event_name'] == 'MainScreenAppear']['time_and_date']\n",
    "x2 = logs[logs['event_name'] == 'OffersScreenAppear']['time_and_date']\n",
    "x3 = logs[logs['event_name'] == 'CartScreenAppear']['time_and_date']\n",
    "x4 = logs[logs['event_name'] == 'PaymentScreenSuccessful']['time_and_date']\n",
    "\n"
   ]
  },
  {
   "cell_type": "code",
   "execution_count": null,
   "id": "b9971238",
   "metadata": {
    "scrolled": false
   },
   "outputs": [],
   "source": [
    "fig = go.Figure()\n",
    "fig.add_trace(go.Histogram(x=x0, name='Tutorial'))\n",
    "fig.add_trace(go.Histogram(x=x1, name='MainScreenAppear'))\n",
    "fig.add_trace(go.Histogram(x=x2, name='OffersScreenAppear'))\n",
    "fig.add_trace(go.Histogram(x=x3, name='CartScreenAppear'))\n",
    "fig.add_trace(go.Histogram(x=x4, name='PaymentScreenSuccessful'))\n",
    "# Overlay both histograms\n",
    "fig.update_layout(barmode='overlay')\n",
    "# Reduce opacity to see both histograms\n",
    "fig.update_traces(opacity=0.75)\n",
    "fig.show()"
   ]
  },
  {
   "cell_type": "markdown",
   "id": "7e191c0c",
   "metadata": {},
   "source": [
    "We can see that during most of the day the \"MainScreenAppear\" is the most frequent event. The \"CartScreenAppear\" becomes more frequent in the noon- afternoon time."
   ]
  },
  {
   "cell_type": "markdown",
   "id": "8674a3c3",
   "metadata": {},
   "source": [
    "## Find the number of users who performed each of these actions. Sort the events by the number of users. Calculate the proportion of users who performed the action at least once."
   ]
  },
  {
   "cell_type": "code",
   "execution_count": null,
   "id": "f1a2a8fa",
   "metadata": {},
   "outputs": [],
   "source": [
    "number_of_users = logs.groupby(\n",
    "    'event_name'\n",
    ")['device_id_hash'].nunique().reset_index().sort_values(by='device_id_hash', ascending=False)\n",
    "number_of_users.columns = ['event_name', 'number_of_users']\n",
    "sum_number_of_users = number_of_users['number_of_users'].sum()\n",
    "number_of_users['proportion_of_users'] = round(number_of_users['number_of_users']/sum_number_of_users*100,1)\n",
    "number_of_users"
   ]
  },
  {
   "cell_type": "markdown",
   "id": "dd84f7f1",
   "metadata": {},
   "source": [
    "Only 4.2% of users watched the tutorial"
   ]
  },
  {
   "cell_type": "markdown",
   "id": "43ea2c8c",
   "metadata": {},
   "source": [
    "## In what order do you think the actions took place. Are all of them part of a single sequence? You don't need to take them into account when calculating the funnel."
   ]
  },
  {
   "cell_type": "markdown",
   "id": "0af1ad04",
   "metadata": {},
   "source": [
    "Lets see the total amount of users who loged because this number was changed since we removed results from July"
   ]
  },
  {
   "cell_type": "code",
   "execution_count": null,
   "id": "b2930d26",
   "metadata": {},
   "outputs": [],
   "source": [
    "number_of_users = len(logs['device_id_hash'].unique())\n",
    "print(f'There are {number_of_users} users are in the logs')"
   ]
  },
  {
   "cell_type": "markdown",
   "id": "81974f23",
   "metadata": {},
   "source": [
    "From the proportion of users in each event we can assume that the sequence was as follows: \n",
    "MainScreenAppear > OffersScreenAppear > CartScreenAppear > PaymentScreenSuccessful\n",
    "Not all of them part of a funnel. The Tutorial is not a part of the funnel."
   ]
  },
  {
   "cell_type": "markdown",
   "id": "7558d7b7",
   "metadata": {},
   "source": [
    "## Use the event funnel to find the share of users that proceed from each stage to the next. (For instance, for the sequence of events A → B → C, calculate the ratio of users at stage B to the number of users at stage A and the ratio of users at stage C to the number at stage B.)"
   ]
  },
  {
   "cell_type": "code",
   "execution_count": null,
   "id": "75f1a54c",
   "metadata": {},
   "outputs": [],
   "source": [
    "users = logs.pivot_table(\n",
    "    index='device_id_hash',\n",
    "    columns='event_name',\n",
    "    values='time_and_date',\n",
    "    aggfunc='min'\n",
    ")"
   ]
  },
  {
   "cell_type": "code",
   "execution_count": null,
   "id": "c5a193e0",
   "metadata": {},
   "outputs": [],
   "source": [
    "step_1 = ~users['MainScreenAppear'].isna()\n",
    "step_2 = step_1 & (users['OffersScreenAppear'] > users['MainScreenAppear'])\n",
    "step_3 = step_2 & (users['CartScreenAppear'] > users['OffersScreenAppear'])\n",
    "step_4 = step_3 & (users['PaymentScreenSuccessful'] > users['CartScreenAppear'])"
   ]
  },
  {
   "cell_type": "code",
   "execution_count": null,
   "id": "96c26776",
   "metadata": {},
   "outputs": [],
   "source": [
    "step_1"
   ]
  },
  {
   "cell_type": "code",
   "execution_count": null,
   "id": "88a9e455",
   "metadata": {},
   "outputs": [],
   "source": [
    "users"
   ]
  },
  {
   "cell_type": "code",
   "execution_count": null,
   "id": "b7413400",
   "metadata": {},
   "outputs": [],
   "source": [
    "n_MainScreenAppear = users[step_1].shape[0]\n",
    "n_OffersScreenAppear = users[step_2].shape[0]\n",
    "n_CartScreenAppear = users[step_3].shape[0]\n",
    "n_PaymentScreenSuccessful = users[step_4].shape[0]"
   ]
  },
  {
   "cell_type": "code",
   "execution_count": null,
   "id": "17b4031b",
   "metadata": {},
   "outputs": [],
   "source": [
    "fig = go.Figure(go.Funnel(\n",
    "    y = [\"Visitors\", \"Selected a product\", \"Started checkout\", \"Paid\"],\n",
    "    x = [n_MainScreenAppear, n_OffersScreenAppear, n_CartScreenAppear, n_PaymentScreenSuccessful],\n",
    "    textposition = \"inside\",\n",
    "    textinfo = \"value+percent initial\",\n",
    "    opacity = 0.65, marker = {\"color\": [\"deepskyblue\", \"lightsalmon\", \"tan\", \"teal\", \"silver\"],\n",
    "    \"line\": {\"width\": [4, 2, 2, 3, 1, 1], \"color\": [\"wheat\", \"wheat\", \"wheat\", \"wheat\", \"wheat\"]}},\n",
    "    connector = {\"line\": {\"color\": \"royalblue\", \"dash\": \"dot\", \"width\": 3}})\n",
    "    )\n",
    "\n",
    "fig.show()"
   ]
  },
  {
   "cell_type": "markdown",
   "id": "09442e8c",
   "metadata": {},
   "source": [
    "## At what stage do you lose the most users?"
   ]
  },
  {
   "cell_type": "markdown",
   "id": "ce962114",
   "metadata": {},
   "source": [
    "The stage where most user leave is from visitors to select a product. The largest share of users from the previous stage that leave is from start checkout to payment"
   ]
  },
  {
   "cell_type": "markdown",
   "id": "db964d2b",
   "metadata": {},
   "source": [
    "## What share of users make the entire journey from their first event to payment?"
   ]
  },
  {
   "cell_type": "code",
   "execution_count": null,
   "id": "d10a2d24",
   "metadata": {
    "scrolled": true
   },
   "outputs": [],
   "source": [
    "print(\n",
    "    f'The share of users make the entire journey from their first event to payment is {round(n_PaymentScreenSuccessful/n_MainScreenAppear*100)}%')"
   ]
  },
  {
   "cell_type": "markdown",
   "id": "53b7288d",
   "metadata": {},
   "source": [
    "# Step 5. Study the results of the experiment"
   ]
  },
  {
   "cell_type": "markdown",
   "id": "7700f3f3",
   "metadata": {},
   "source": [
    "## How many users are there in each group?"
   ]
  },
  {
   "cell_type": "code",
   "execution_count": null,
   "id": "28bfe967",
   "metadata": {},
   "outputs": [],
   "source": [
    "users_in_groups = logs.groupby('exp_id')['device_id_hash'].nunique()\n",
    "users_in_groups"
   ]
  },
  {
   "cell_type": "markdown",
   "id": "9804d199",
   "metadata": {},
   "source": [
    "Create group that combines group A1 and A2 and name it A - This will be useful if we will decide in the future to combine results for the control groups"
   ]
  },
  {
   "cell_type": "code",
   "execution_count": null,
   "id": "41473dcc",
   "metadata": {},
   "outputs": [],
   "source": [
    "logs_A1_A2 = logs[(logs['exp_id'] == 'A1') | (logs['exp_id'] == 'A2')]\n",
    "logs_A1_A2[\"exp_id\"].replace({\"A1\": \"A\", \"A2\": \"A\"}, inplace=True)\n",
    "logs_A1_A2\n",
    "frames = [logs, logs_A1_A2]\n",
    "logs = pd.concat(frames)\n",
    "users_in_groups = logs.groupby('exp_id')['device_id_hash'].nunique()\n",
    "users_in_groups\n"
   ]
  },
  {
   "cell_type": "markdown",
   "id": "edbb452d",
   "metadata": {},
   "source": [
    "## We have two control groups in the A/A test, where we check our mechanisms and calculations. See if there is a statistically significant difference between samples 246 and 247."
   ]
  },
  {
   "cell_type": "markdown",
   "id": "35557a5d",
   "metadata": {},
   "source": [
    "We changed the names 246 is A1 and 247 is A2"
   ]
  },
  {
   "cell_type": "markdown",
   "id": "9acd4025",
   "metadata": {},
   "source": [
    "We See if there is a statistically significant difference between samples A1 and A2 in next section"
   ]
  },
  {
   "cell_type": "markdown",
   "id": "cc93b918",
   "metadata": {},
   "source": [
    "## Select the most popular event. In each of the control groups, find the number of users who performed this action. Find their share. Check whether the difference between the groups is statistically significant. Repeat the procedure for all other events (it will save time if you create a special function for this test). Can you confirm that the groups were split properly?"
   ]
  },
  {
   "cell_type": "markdown",
   "id": "00c39414",
   "metadata": {},
   "source": [
    "Create a class for groups to calculate the number of users who performed any action"
   ]
  },
  {
   "cell_type": "code",
   "execution_count": null,
   "id": "3582ca2a",
   "metadata": {},
   "outputs": [],
   "source": [
    "class Group:\n",
    "    \"\"\" Study group class \"\"\"\n",
    "    def __init__(self, name, source_df):\n",
    "        self.name = name\n",
    "        self.df = source_df[source_df['exp_id'] == self.name]\n",
    "        self.users_pivot = self.users_pivot()\n",
    "        self.n_MainScreenAppear = self.step_1_users_count()\n",
    "        self.n_OffersScreenAppear = self.step_2_users_count()\n",
    "        self.n_CartScreenAppear = self.step_3_users_count()\n",
    "        self.n_PaymentScreenSuccessful = self.step_4_users_count()\n",
    "        self.n_Tutorial = self.tutorial_users_count()\n",
    "        self.step_count_list = [self.n_MainScreenAppear,\n",
    "                                self.n_OffersScreenAppear,\n",
    "                                self.n_CartScreenAppear,\n",
    "                                self.n_PaymentScreenSuccessful] \n",
    "            \n",
    "    def users_pivot(self):\n",
    "        my_pivot = self.df.pivot_table(\n",
    "        index='device_id_hash',\n",
    "        columns='event_name',\n",
    "        values='time_and_date',\n",
    "        aggfunc='min'\n",
    "        ) \n",
    "        return my_pivot\n",
    "    \n",
    "    def step_1_users_count(self):\n",
    "        step_1 = ~self.users_pivot['MainScreenAppear'].isna()\n",
    "        count = self.users_pivot[step_1].shape[0]\n",
    "        return count\n",
    "    \n",
    "    def step_1_users_count(self):\n",
    "        self.step_1 = ~self.users_pivot['MainScreenAppear'].isna()\n",
    "        count = self.users_pivot[self.step_1].shape[0]\n",
    "        return count\n",
    "    \n",
    "    def step_2_users_count(self):\n",
    "        self.step_2 = self.step_1 & (\n",
    "            self.users_pivot['OffersScreenAppear'] > self.users_pivot['MainScreenAppear']\n",
    "        )\n",
    "        count = self.users_pivot[self.step_2].shape[0]\n",
    "        return count\n",
    "    \n",
    "    def step_3_users_count(self):\n",
    "        self.step_3 = self.step_2 & (\n",
    "            self.users_pivot['CartScreenAppear'] > self.users_pivot['OffersScreenAppear']\n",
    "        )\n",
    "        count = self.users_pivot[self.step_3].shape[0]\n",
    "        return count\n",
    "    \n",
    "    def step_4_users_count(self):\n",
    "        self.step_4 = self.step_3 & (\n",
    "            self.users_pivot['PaymentScreenSuccessful'] > self.users_pivot['CartScreenAppear']\n",
    "        )\n",
    "        count = self.users_pivot[self.step_4].shape[0]\n",
    "        return count\n",
    "    \n",
    "    def tutorial_users_count(self):\n",
    "        self.tutorial = ~self.users_pivot['Tutorial'].isna()\n",
    "        count = self.users_pivot[self.tutorial].shape[0]\n",
    "        return count"
   ]
  },
  {
   "cell_type": "markdown",
   "id": "08fde0a2",
   "metadata": {},
   "source": [
    "Calculate groups lists of users in steps"
   ]
  },
  {
   "cell_type": "code",
   "execution_count": null,
   "id": "e9a0fdd1",
   "metadata": {},
   "outputs": [],
   "source": [
    "group_A1 = Group('A1', logs)\n",
    "group_A1_list = group_A1.step_count_list"
   ]
  },
  {
   "cell_type": "code",
   "execution_count": null,
   "id": "857f83d8",
   "metadata": {},
   "outputs": [],
   "source": [
    "group_A1_list"
   ]
  },
  {
   "cell_type": "code",
   "execution_count": null,
   "id": "e7efaacc",
   "metadata": {},
   "outputs": [],
   "source": [
    "group_A2 = Group('A2', logs)\n",
    "group_A2_list = group_A2.step_count_list"
   ]
  },
  {
   "cell_type": "code",
   "execution_count": null,
   "id": "60929fd6",
   "metadata": {},
   "outputs": [],
   "source": [
    "group_A2_list"
   ]
  },
  {
   "cell_type": "markdown",
   "id": "f3d9914f",
   "metadata": {},
   "source": [
    "Create a class to conduct proportion test between two groups"
   ]
  },
  {
   "cell_type": "code",
   "execution_count": null,
   "id": "2a7e4c35",
   "metadata": {},
   "outputs": [],
   "source": [
    "class StatisticTestForTwoGroups:\n",
    "    \"\"\" Conduct test for two groups \"\"\"\n",
    "    def __init__(self, group_1_step_list, group_2_step_list, alpha):\n",
    "        self.group_1_step_list = group_1_step_list\n",
    "        self.group_2_step_list = group_2_step_list\n",
    "        self.alpha = alpha\n",
    "        self.pvalue_list = self.calculate_pvalue()\n",
    "        if min(self.pvalue_list) < self.alpha:\n",
    "            text = 'Rejecting the null hypothesis:\\\n",
    " there is a significant difference between the proportions'\n",
    "        else:\n",
    "            text = \"Failed to reject the null hypothesis:\\\n",
    " there is no reason to consider the proportions different\"\n",
    "        self.text = text\n",
    "        \n",
    "    def calculate_pvalue(self):\n",
    "        pvalue_list =list()\n",
    "        for i in range(3):\n",
    "#             before = np.array([self.group_1_step_list[i], self.group_2_step_list[i]])\n",
    "            # compare to the first step\n",
    "            before = np.array([self.group_1_step_list[0], self.group_2_step_list[0]]) \n",
    "            after = np.array([self.group_1_step_list[i+1], self.group_2_step_list[i+1]])\n",
    "            \n",
    "            # selected proportion in the first group:\n",
    "            p1 = after[0]/before[0]\n",
    "            \n",
    "            # selected proportion in the second group:\n",
    "            p2 = after[1]/before[1]\n",
    "            \n",
    "            # selected proportion in the combined dataset:\n",
    "            p_combined = (after[0] + after[1]) / (before[0] + before[1])\n",
    "            \n",
    "            # the difference between the datasets' proportions\n",
    "            difference = p1 - p2 \n",
    "            \n",
    "            # calculating the statistic in standard deviations of the standard normal distribution\n",
    "            z_value = difference / mth.sqrt(p_combined * (1 - p_combined) * (1/before[0] + 1/before[1]))\n",
    "            \n",
    "            # setting up the standard normal distribution (mean 0, standard deviation 1)\n",
    "            distr = st.norm(0, 1)\n",
    "            \n",
    "            p_value = round((1 - distr.cdf(abs(z_value))) * 2,3)\n",
    "            \n",
    "            pvalue_list.append(p_value)\n",
    "        \n",
    "        return pvalue_list"
   ]
  },
  {
   "cell_type": "markdown",
   "id": "72d07fb0",
   "metadata": {},
   "source": [
    "Check whether the difference between the groups is statistically significant for all events.\n",
    "The statistical test will be:"
   ]
  },
  {
   "cell_type": "markdown",
   "id": "9e9dccfd",
   "metadata": {},
   "source": [
    "- H0: proportions in group A1 == proportions in group A2\n",
    "- H1: proportions in group A1 != proportions in group A2\n",
    "- Significance level: 0.05\n",
    "\n",
    "- If the minimum of all p-values < alpha: We can reject H0 using significance level 0.05\n",
    "- Else: We can't reject H0 using significance level 0.05"
   ]
  },
  {
   "cell_type": "code",
   "execution_count": null,
   "id": "e17a2afa",
   "metadata": {},
   "outputs": [],
   "source": [
    "group_A1_A2_statistic = StatisticTestForTwoGroups(group_A1_list, group_A2_list, 0.05)"
   ]
  },
  {
   "cell_type": "code",
   "execution_count": null,
   "id": "3eb06ce9",
   "metadata": {},
   "outputs": [],
   "source": [
    "group_A1_A2_statistic.pvalue_list"
   ]
  },
  {
   "cell_type": "code",
   "execution_count": null,
   "id": "15f68c5f",
   "metadata": {},
   "outputs": [],
   "source": [
    "group_A1_A2_statistic.text"
   ]
  },
  {
   "cell_type": "markdown",
   "id": "f4ffecb6",
   "metadata": {},
   "source": [
    "The conclusion is that there is that the split to groups done right. Group A1 and group A2 was splitted with no fault and therefore we can proceed to the A B testing since all the difference between the groups will be change in the font.  "
   ]
  },
  {
   "cell_type": "markdown",
   "id": "9710ef5e",
   "metadata": {},
   "source": [
    "## Do the same thing for the group with altered fonts. Compare the results with those of each of the control groups for each event in isolation. Compare the results with the combined results for the control groups. What conclusions can you draw from the experiment?"
   ]
  },
  {
   "cell_type": "markdown",
   "id": "9ed377ab",
   "metadata": {},
   "source": [
    "## Group A1 and group B"
   ]
  },
  {
   "cell_type": "markdown",
   "id": "aa08204a",
   "metadata": {},
   "source": [
    "Check whether the difference between the groups A1 and B is statistically significant for all events. The statistical test will be:"
   ]
  },
  {
   "cell_type": "markdown",
   "id": "aeca6f7d",
   "metadata": {},
   "source": [
    "- H0: proportions in group A1 == proportions in group B\n",
    "- H1: proportions in group A1 != proportions in group B\n",
    "- Significance level: 0.05\n",
    "\n",
    "- If the minimum of all p-values < alpha: We can reject H0 using significance level 0.05\n",
    "- Else: We can't reject H0 using significance level 0.05"
   ]
  },
  {
   "cell_type": "markdown",
   "id": "48ade372",
   "metadata": {},
   "source": [
    "Calculate group lists of users in steps"
   ]
  },
  {
   "cell_type": "code",
   "execution_count": null,
   "id": "610cb31d",
   "metadata": {},
   "outputs": [],
   "source": [
    "group_B = Group('B', logs)\n",
    "group_B_list = group_B.step_count_list\n",
    "group_B_list"
   ]
  },
  {
   "cell_type": "code",
   "execution_count": null,
   "id": "70274e12",
   "metadata": {},
   "outputs": [],
   "source": [
    "group_A1_B_statistic = StatisticTestForTwoGroups(group_A1_list, group_B_list, 0.05)\n",
    "group_A1_B_statistic.pvalue_list"
   ]
  },
  {
   "cell_type": "code",
   "execution_count": null,
   "id": "fc2ad63a",
   "metadata": {},
   "outputs": [],
   "source": [
    "group_A1_B_statistic.text"
   ]
  },
  {
   "cell_type": "markdown",
   "id": "33fadeee",
   "metadata": {},
   "source": [
    "## Group A2 and group B"
   ]
  },
  {
   "cell_type": "markdown",
   "id": "874a06e1",
   "metadata": {},
   "source": [
    "Check whether the difference between the groups A2 and B is statistically significant for all events. The statistical test will be:"
   ]
  },
  {
   "cell_type": "markdown",
   "id": "c35bca88",
   "metadata": {},
   "source": [
    "- H0: proportions in group A2 == proportions in group B\n",
    "- H1: proportions in group A2 != proportions in group B\n",
    "- Significance level: 0.05\n",
    "\n",
    "- If the minimum of all p-values < alpha: We can reject H0 using significance level 0.05\n",
    "- Else: We can't reject H0 using significance level 0.05"
   ]
  },
  {
   "cell_type": "code",
   "execution_count": null,
   "id": "ba7dfd8f",
   "metadata": {},
   "outputs": [],
   "source": [
    "group_A2_B_statistic = StatisticTestForTwoGroups(group_A2_list, group_B_list, 0.05)\n",
    "group_A2_B_statistic.pvalue_list"
   ]
  },
  {
   "cell_type": "code",
   "execution_count": null,
   "id": "b9a0f2fa",
   "metadata": {},
   "outputs": [],
   "source": [
    "group_A2_B_statistic.text"
   ]
  },
  {
   "cell_type": "markdown",
   "id": "c9b801a6",
   "metadata": {},
   "source": [
    "## Group A (combined A1 and A2) and group B"
   ]
  },
  {
   "cell_type": "markdown",
   "id": "6cf628dd",
   "metadata": {},
   "source": [
    "Check whether the difference between the groups A and B is statistically significant for all events. The statistical test will be:"
   ]
  },
  {
   "cell_type": "markdown",
   "id": "cfa63f85",
   "metadata": {},
   "source": [
    "- H0: proportions in group A == proportions in group B\n",
    "- H1: proportions in group A != proportions in group B\n",
    "- Significance level: 0.05\n",
    "\n",
    "- If the minimum of all p-values < alpha: We can reject H0 using significance level 0.05\n",
    "- Else: We can't reject H0 using significance level 0.05"
   ]
  },
  {
   "cell_type": "code",
   "execution_count": null,
   "id": "246ab220",
   "metadata": {},
   "outputs": [],
   "source": [
    "group_A = Group('A', logs)\n",
    "group_A_list = group_A.step_count_list\n",
    "group_A_list"
   ]
  },
  {
   "cell_type": "code",
   "execution_count": null,
   "id": "de2115db",
   "metadata": {},
   "outputs": [],
   "source": [
    "group_A_B_statistic = StatisticTestForTwoGroups(group_A_list, group_B_list, 0.05)\n",
    "group_A_B_statistic.pvalue_list"
   ]
  },
  {
   "cell_type": "code",
   "execution_count": null,
   "id": "b3600f27",
   "metadata": {},
   "outputs": [],
   "source": [
    "group_A_B_statistic.text"
   ]
  },
  {
   "cell_type": "markdown",
   "id": "1cec1993",
   "metadata": {},
   "source": [
    "## What significance level have you set to test the statistical hypotheses mentioned above? Calculate how many statistical hypothesis tests you carried out. With a statistical significance level of 0.1, one in 10 results could be false. What should the significance level be? If you want to change it, run through the previous steps again and check your conclusions."
   ]
  },
  {
   "cell_type": "markdown",
   "id": "e1e4dcbf",
   "metadata": {},
   "source": [
    "- In all tests we failed to reject the null hypothesis. So decreasing alpha will not help to catch false positive because We never rejected the null hypothesis. \n",
    "- We compared actually only the minimum value of each series of 3 p-value. Since the question is reject or accept. If one of the results was below alpha we would reject the null hypothesis for the comparison between the groups because we only need one instance of difference in proportion\n",
    "- Anyway we will demonstrate the correction by applying Bonferroni correction. We used alpha of 0.05 and the test included comparison of group A1 and B, group A2 and B and group A and B. In each we had 3 tests so it is 3x3 = 9 overall. Then the corrected alpha will be 0.05/12 = 0.004\n"
   ]
  },
  {
   "cell_type": "markdown",
   "id": "dc8af7f2",
   "metadata": {},
   "source": [
    "## Group A1 and group B"
   ]
  },
  {
   "cell_type": "markdown",
   "id": "5158ff1e",
   "metadata": {},
   "source": [
    "Check whether the difference between the groups A1 and B is statistically significant for all events. The statistical test will be:"
   ]
  },
  {
   "cell_type": "markdown",
   "id": "e8cf4ecb",
   "metadata": {},
   "source": [
    "- H0: proportions in group A1 == proportions in group B\n",
    "\n",
    "- H1: proportions in group A1 != proportions in group B\n",
    "\n",
    "- Significance level: 0.004\n",
    "\n",
    "- If the minimum of all p-values < alpha: We can reject H0 using significance level 0.004\n",
    "\n",
    "- Else: We can't reject H0 using significance level 0.004"
   ]
  },
  {
   "cell_type": "code",
   "execution_count": null,
   "id": "25cde9e0",
   "metadata": {
    "scrolled": true
   },
   "outputs": [],
   "source": [
    "group_A1_B_statistic = StatisticTestForTwoGroups(group_A1_list, group_B_list, 0.004)\n",
    "group_A1_B_statistic.pvalue_list\n",
    "group_A1_B_statistic.text"
   ]
  },
  {
   "cell_type": "markdown",
   "id": "9112bbac",
   "metadata": {},
   "source": [
    "## Group A2 and group B"
   ]
  },
  {
   "cell_type": "markdown",
   "id": "69807e6c",
   "metadata": {},
   "source": [
    "Check whether the difference between the groups A2 and B is statistically significant for all events. The statistical test will be:"
   ]
  },
  {
   "cell_type": "markdown",
   "id": "1bb23656",
   "metadata": {},
   "source": [
    "- H0: proportions in group A2 == proportions in group B\n",
    "\n",
    "- H1: proportions in group A2 != proportions in group B\n",
    "\n",
    "- Significance level: 0.004\n",
    "\n",
    "- If the minimum of all p-values < alpha: We can reject H0 using significance level 0.004\n",
    "\n",
    "- Else: We can't reject H0 using significance level 0.004"
   ]
  },
  {
   "cell_type": "code",
   "execution_count": null,
   "id": "9755383d",
   "metadata": {},
   "outputs": [],
   "source": [
    "group_A2_B_statistic = StatisticTestForTwoGroups(group_A2_list, group_B_list, 0.004)\n",
    "group_A2_B_statistic.pvalue_list\n",
    "group_A2_B_statistic.text"
   ]
  },
  {
   "cell_type": "markdown",
   "id": "e1d9efb7",
   "metadata": {},
   "source": [
    "## Group A and group B"
   ]
  },
  {
   "cell_type": "markdown",
   "id": "6b3dc127",
   "metadata": {},
   "source": [
    "Check whether the difference between the groups A and B is statistically significant for all events. The statistical test will be:"
   ]
  },
  {
   "cell_type": "markdown",
   "id": "5f0a3e36",
   "metadata": {},
   "source": [
    "- H0: proportions in group A == proportions in group B\n",
    "\n",
    "- H1: proportions in group A != proportions in group B\n",
    "\n",
    "- Significance level: 0.004\n",
    "\n",
    "- If the minimum of all p-values < alpha: We can reject H0 using significance level 0.004\n",
    "\n",
    "- Else: We can't reject H0 using significance level 0.004"
   ]
  },
  {
   "cell_type": "code",
   "execution_count": null,
   "id": "412a33dc",
   "metadata": {
    "scrolled": true
   },
   "outputs": [],
   "source": [
    "group_A_B_statistic = StatisticTestForTwoGroups(group_A_list, group_B_list, 0.004)\n",
    "group_A_B_statistic.pvalue_list\n",
    "group_A_B_statistic.text"
   ]
  },
  {
   "cell_type": "markdown",
   "id": "2e749237",
   "metadata": {},
   "source": [
    "In all cases we failed to reject the null hypothesis"
   ]
  },
  {
   "cell_type": "markdown",
   "id": "779fd83a",
   "metadata": {},
   "source": [
    "# Conclusion\n",
    "- As we predicted, decreasing alpha according to Bonferroni correction did not change our results. \n",
    "- The change in fonts didn't cause any significant change in users behavior.\n",
    "- By performing A/A test we have more confident that the split of groups didn't cause any faults and all the difference is the change in set of fonts in the app"
   ]
  }
 ],
 "metadata": {
  "ExecuteTimeLog": [
   {
    "duration": 104046,
    "start_time": "2022-04-28T20:53:06.231Z"
   },
   {
    "duration": 1371,
    "start_time": "2022-04-28T20:54:50.280Z"
   },
   {
    "duration": 220,
    "start_time": "2022-04-28T20:54:51.653Z"
   },
   {
    "duration": 20,
    "start_time": "2022-04-28T20:54:51.875Z"
   },
   {
    "duration": 10,
    "start_time": "2022-04-28T20:54:51.897Z"
   },
   {
    "duration": 4,
    "start_time": "2022-04-28T20:54:51.908Z"
   },
   {
    "duration": 7,
    "start_time": "2022-04-28T20:54:51.914Z"
   },
   {
    "duration": 44,
    "start_time": "2022-04-28T20:54:51.923Z"
   },
   {
    "duration": 7,
    "start_time": "2022-04-28T20:54:51.969Z"
   },
   {
    "duration": 31,
    "start_time": "2022-04-28T20:54:51.979Z"
   },
   {
    "duration": 41,
    "start_time": "2022-04-28T20:54:52.012Z"
   },
   {
    "duration": 175,
    "start_time": "2022-04-28T20:54:52.055Z"
   },
   {
    "duration": 23,
    "start_time": "2022-04-28T20:54:52.232Z"
   },
   {
    "duration": 3,
    "start_time": "2022-04-28T20:54:52.256Z"
   },
   {
    "duration": 10,
    "start_time": "2022-04-28T20:54:52.261Z"
   },
   {
    "duration": 11,
    "start_time": "2022-04-28T20:54:52.273Z"
   },
   {
    "duration": 3,
    "start_time": "2022-04-28T20:54:52.286Z"
   },
   {
    "duration": 6,
    "start_time": "2022-04-28T20:54:52.291Z"
   },
   {
    "duration": 5,
    "start_time": "2022-04-28T20:54:52.299Z"
   }
  ],
  "kernelspec": {
   "display_name": "Python 3 (ipykernel)",
   "language": "python",
   "name": "python3"
  },
  "language_info": {
   "codemirror_mode": {
    "name": "ipython",
    "version": 3
   },
   "file_extension": ".py",
   "mimetype": "text/x-python",
   "name": "python",
   "nbconvert_exporter": "python",
   "pygments_lexer": "ipython3",
   "version": "3.9.7"
  },
  "toc": {
   "base_numbering": 1,
   "nav_menu": {},
   "number_sections": true,
   "sideBar": true,
   "skip_h1_title": false,
   "title_cell": "Table of Contents",
   "title_sidebar": "Contents",
   "toc_cell": false,
   "toc_position": {},
   "toc_section_display": true,
   "toc_window_display": true
  }
 },
 "nbformat": 4,
 "nbformat_minor": 5
}
