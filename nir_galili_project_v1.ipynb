{
 "cells": [
  {
   "cell_type": "markdown",
   "id": "05cd587c",
   "metadata": {},
   "source": [
    "# Download the data and prepare it for analysis"
   ]
  },
  {
   "cell_type": "markdown",
   "id": "d3427276",
   "metadata": {},
   "source": [
    "## Project description\n",
    "Our mission is to investigate user behavior for the company's app"
   ]
  },
  {
   "cell_type": "markdown",
   "id": "d25df1b8",
   "metadata": {},
   "source": [
    "## Import"
   ]
  },
  {
   "cell_type": "code",
   "execution_count": null,
   "id": "c67a47ac",
   "metadata": {},
   "outputs": [],
   "source": [
    "import pandas as pd\n",
    "import numpy as np\n",
    "import plotly.express as px\n",
    "import plotly.graph_objects as go\n",
    "from scipy import stats as st\n",
    "import matplotlib.pyplot as plt\n",
    "import seaborn as sns\n",
    "from scipy import stats as st\n",
    "import datetime as dt\n",
    "\n",
    "%matplotlib inline"
   ]
  },
  {
   "cell_type": "markdown",
   "id": "69666d47",
   "metadata": {},
   "source": [
    "## Load data"
   ]
  },
  {
   "cell_type": "code",
   "execution_count": null,
   "id": "4daa02ac",
   "metadata": {},
   "outputs": [],
   "source": [
    "try:\n",
    "    rest_data = pd.read_csv('logs_exp_us.csv', sep=',')\n",
    "except:\n",
    "    rest_data = pd.read_csv('/datasets/logs_exp_us.csv', sep=',')"
   ]
  },
  {
   "cell_type": "markdown",
   "id": "13651699",
   "metadata": {},
   "source": [
    "## Prepare data for analysis"
   ]
  },
  {
   "cell_type": "markdown",
   "id": "a51a538a",
   "metadata": {},
   "source": [
    "- EventName — event name\n",
    "DeviceIDHash — unique user identifier\n",
    "EventTimestamp — event time\n",
    "ExpId — experiment number: 246 and 247 are the control groups, 248 is the test group"
   ]
  },
  {
   "cell_type": "markdown",
   "id": "3f6f8492",
   "metadata": {},
   "source": []
  },
  {
   "cell_type": "markdown",
   "id": "fb74f6d4",
   "metadata": {},
   "source": []
  },
  {
   "cell_type": "markdown",
   "id": "64de7b40",
   "metadata": {},
   "source": []
  },
  {
   "cell_type": "markdown",
   "id": "669b6e9b",
   "metadata": {},
   "source": []
  },
  {
   "cell_type": "code",
   "execution_count": null,
   "id": "692256f3",
   "metadata": {},
   "outputs": [],
   "source": []
  }
 ],
 "metadata": {
  "kernelspec": {
   "display_name": "Python 3 (ipykernel)",
   "language": "python",
   "name": "python3"
  },
  "language_info": {
   "codemirror_mode": {
    "name": "ipython",
    "version": 3
   },
   "file_extension": ".py",
   "mimetype": "text/x-python",
   "name": "python",
   "nbconvert_exporter": "python",
   "pygments_lexer": "ipython3",
   "version": "3.9.7"
  },
  "toc": {
   "base_numbering": 1,
   "nav_menu": {},
   "number_sections": true,
   "sideBar": true,
   "skip_h1_title": false,
   "title_cell": "Table of Contents",
   "title_sidebar": "Contents",
   "toc_cell": false,
   "toc_position": {},
   "toc_section_display": true,
   "toc_window_display": false
  }
 },
 "nbformat": 4,
 "nbformat_minor": 5
}
